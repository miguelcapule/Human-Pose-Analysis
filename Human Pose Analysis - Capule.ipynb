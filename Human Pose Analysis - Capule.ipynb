{
 "cells": [
  {
   "cell_type": "code",
   "execution_count": 9,
   "metadata": {
    "colab": {
     "base_uri": "https://localhost:8080/",
     "height": 139
    },
    "id": "e1lmpDuRvRtG",
    "outputId": "bbbff42f-db18-4016-f43a-e82b8eb4c3b8"
   },
   "outputs": [
    {
     "name": "stdout",
     "output_type": "stream",
     "text": [
      "C:\\Users\\Miguel Capule\\Key Point Extraction and Feature Engineering in Human Pose Analysis\\human-pose-estimation-opencv\n"
     ]
    },
    {
     "name": "stderr",
     "output_type": "stream",
     "text": [
      "Cloning into 'human-pose-estimation-opencv'...\n"
     ]
    }
   ],
   "source": [
    "!git clone https://github.com/misbah4064/human-pose-estimation-opencv.git\n",
    "%cd human-pose-estimation-opencv/"
   ]
  },
  {
   "cell_type": "code",
   "execution_count": 14,
   "metadata": {
    "id": "_VU-qTv-vZ-H"
   },
   "outputs": [],
   "source": [
    "import cv2 as cv\n",
    "import numpy as np\n",
    "\n",
    "BODY_PARTS = { \"Nose\": 0, \"Neck\": 1, \"RShoulder\": 2, \"RElbow\": 3, \"RWrist\": 4,\n",
    "               \"LShoulder\": 5, \"LElbow\": 6, \"LWrist\": 7, \"RHip\": 8, \"RKnee\": 9,\n",
    "               \"RAnkle\": 10, \"LHip\": 11, \"LKnee\": 12, \"LAnkle\": 13, \"REye\": 14,\n",
    "               \"LEye\": 15, \"REar\": 16, \"LEar\": 17, \"Background\": 18 }\n",
    "\n",
    "POSE_PAIRS = [ [\"Neck\", \"RShoulder\"], [\"Neck\", \"LShoulder\"], [\"RShoulder\", \"RElbow\"],\n",
    "               [\"RElbow\", \"RWrist\"], [\"LShoulder\", \"LElbow\"], [\"LElbow\", \"LWrist\"],\n",
    "               [\"Neck\", \"RHip\"], [\"RHip\", \"RKnee\"], [\"RKnee\", \"RAnkle\"], [\"Neck\", \"LHip\"],\n",
    "               [\"LHip\", \"LKnee\"], [\"LKnee\", \"LAnkle\"], [\"Neck\", \"Nose\"], [\"Nose\", \"REye\"],\n",
    "               [\"REye\", \"REar\"], [\"Nose\", \"LEye\"], [\"LEye\", \"LEar\"] ]\n",
    "\n",
    "width = 368\n",
    "height = 368\n",
    "inWidth = width\n",
    "inHeight = height\n",
    "\n",
    "net = cv.dnn.readNetFromTensorflow(\"graph_opt.pb\")\n",
    "thr = 0.2\n",
    "\n",
    "def poseDetector(frame):\n",
    "    frameWidth = frame.shape[1]\n",
    "    frameHeight = frame.shape[0]\n",
    "\n",
    "    net.setInput(cv.dnn.blobFromImage(frame, 1.0, (inWidth, inHeight), (127.5, 127.5, 127.5), swapRB=True, crop=False))\n",
    "    out = net.forward()\n",
    "    out = out[:, :19, :, :]\n",
    "\n",
    "    assert(len(BODY_PARTS) == out.shape[1])\n",
    "\n",
    "    points = []\n",
    "    for i in range(len(BODY_PARTS)):\n",
    "        heatMap = out[0, i, :, :]\n",
    "\n",
    "        _, conf, _, point = cv.minMaxLoc(heatMap)\n",
    "        x = (frameWidth * point[0]) / out.shape[3]\n",
    "        y = (frameHeight * point[1]) / out.shape[2]\n",
    "        points.append((int(x), int(y)) if conf > thr else None)\n",
    "\n",
    "    for pair in POSE_PAIRS:\n",
    "        partFrom = pair[0]\n",
    "        partTo = pair[1]\n",
    "        assert(partFrom in BODY_PARTS)\n",
    "        assert(partTo in BODY_PARTS)\n",
    "\n",
    "        idFrom = BODY_PARTS[partFrom]\n",
    "        idTo = BODY_PARTS[partTo]\n",
    "\n",
    "        if points[idFrom] and points[idTo]:\n",
    "            cv.line(frame, points[idFrom], points[idTo], (0, 255, 0), 3)\n",
    "            cv.ellipse(frame, points[idFrom], (3, 3), 0, 0, 360, (0, 0, 255), cv.FILLED)\n",
    "            cv.ellipse(frame, points[idTo], (3, 3), 0, 0, 360, (0, 0, 255), cv.FILLED)\n",
    "\n",
    "    t, _ = net.getPerfProfile()\n",
    "\n",
    "    return frame\n",
    "\n",
    "cap = cv.VideoCapture(0)  # Capture video from the default camera (adjust the argument if needed)\n",
    "\n",
    "while True:\n",
    "    ret, frame = cap.read()\n",
    "    if not ret:\n",
    "        break\n",
    "\n",
    "    output_frame = poseDetector(frame)\n",
    "    cv.imshow('Human Pose Analysis', output_frame)\n",
    "\n",
    "    if cv.waitKey(1) & 0xFF == ord('q'):\n",
    "        break\n",
    "\n",
    "cap.release()\n",
    "cv.destroyAllWindows()"
   ]
  },
  {
   "cell_type": "code",
   "execution_count": 31,
   "metadata": {
    "colab": {
     "base_uri": "https://localhost:8080/",
     "height": 817
    },
    "id": "t4XTLfHS1M8k",
    "outputId": "50ae6415-7f5f-440c-f2cc-ccec2ace44e6"
   },
   "outputs": [],
   "source": [
    "import cv2 as cv\n",
    "\n",
    "# Load the image\n",
    "input = cv.imread('image.jpg')\n",
    "\n",
    "# Check if the image was loaded successfully\n",
    "if input is not None:\n",
    "    output = poseDetector(input)\n",
    "\n",
    "    # Display the output image\n",
    "    cv.imshow('Output', output)\n",
    "    cv.waitKey(0)\n",
    "    cv.destroyAllWindows()\n",
    "else:\n",
    "    print(\"Failed to load the image. Please check the file path.\")"
   ]
  },
  {
   "cell_type": "code",
   "execution_count": 30,
   "metadata": {
    "colab": {
     "base_uri": "https://localhost:8080/",
     "height": 1000
    },
    "id": "tQyQfLXs7NYp",
    "outputId": "1e8f1d2f-bf67-4ac6-d8ef-a22abcc2fac2"
   },
   "outputs": [],
   "source": [
    "import cv2 as cv\n",
    "\n",
    "# Load the image\n",
    "input = cv.imread('image1.jpg')\n",
    "\n",
    "# Check if the image was loaded successfully\n",
    "if input is not None:\n",
    "    output = poseDetector(input)\n",
    "\n",
    "    # Display the output image\n",
    "    cv.imshow('Output', output)\n",
    "    cv.waitKey(0)\n",
    "    cv.destroyAllWindows()\n",
    "else:\n",
    "    print(\"Failed to load the image. Please check the file path.\")"
   ]
  },
  {
   "cell_type": "code",
   "execution_count": 29,
   "metadata": {
    "colab": {
     "base_uri": "https://localhost:8080/",
     "height": 1000
    },
    "id": "ewTRx3oC8b-W",
    "outputId": "9556b2e6-fcb2-4ed5-fa36-3f0bca13d606"
   },
   "outputs": [],
   "source": [
    "import cv2 as cv\n",
    "\n",
    "# Load the image\n",
    "input = cv.imread('image2.jpg')\n",
    "\n",
    "# Check if the image was loaded successfully\n",
    "if input is not None:\n",
    "    output = poseDetector(input)\n",
    "\n",
    "    # Display the output image\n",
    "    cv.imshow('Output', output)\n",
    "    cv.waitKey(0)\n",
    "    cv.destroyAllWindows()\n",
    "else:\n",
    "    print(\"Failed to load the image. Please check the file path.\")"
   ]
  },
  {
   "cell_type": "code",
   "execution_count": 28,
   "metadata": {},
   "outputs": [],
   "source": [
    "import cv2 as cv\n",
    "\n",
    "# Load the image\n",
    "input = cv.imread('image3.jpg')\n",
    "\n",
    "# Check if the image was loaded successfully\n",
    "if input is not None:\n",
    "    output = poseDetector(input)\n",
    "\n",
    "    # Display the output image\n",
    "    cv.imshow('Output', output)\n",
    "    cv.waitKey(0)\n",
    "    cv.destroyAllWindows()\n",
    "else:\n",
    "    print(\"Failed to load the image. Please check the file path.\")"
   ]
  },
  {
   "cell_type": "code",
   "execution_count": 27,
   "metadata": {},
   "outputs": [],
   "source": [
    "import cv2 as cv\n",
    "\n",
    "# Load the image\n",
    "input = cv.imread('image4.jpg')\n",
    "\n",
    "# Check if the image was loaded successfully\n",
    "if input is not None:\n",
    "    output = poseDetector(input)\n",
    "\n",
    "    # Display the output image\n",
    "    cv.imshow('Output', output)\n",
    "    cv.waitKey(0)\n",
    "    cv.destroyAllWindows()\n",
    "else:\n",
    "    print(\"Failed to load the image. Please check the file path.\")"
   ]
  },
  {
   "cell_type": "code",
   "execution_count": 32,
   "metadata": {},
   "outputs": [],
   "source": [
    "import cv2 as cv\n",
    "\n",
    "# Load the image\n",
    "input = cv.imread('image5.jpg')\n",
    "\n",
    "# Check if the image was loaded successfully\n",
    "if input is not None:\n",
    "    output = poseDetector(input)\n",
    "\n",
    "    # Display the output image\n",
    "    cv.imshow('Output', output)\n",
    "    cv.waitKey(0)\n",
    "    cv.destroyAllWindows()\n",
    "else:\n",
    "    print(\"Failed to load the image. Please check the file path.\")"
   ]
  },
  {
   "cell_type": "code",
   "execution_count": 34,
   "metadata": {},
   "outputs": [],
   "source": [
    "import cv2 as cv\n",
    "\n",
    "# Load the image\n",
    "input = cv.imread('image6.jpg')\n",
    "\n",
    "# Check if the image was loaded successfully\n",
    "if input is not None:\n",
    "    output = poseDetector(input)\n",
    "\n",
    "    # Display the output image\n",
    "    cv.imshow('Output', output)\n",
    "    cv.waitKey(0)\n",
    "    cv.destroyAllWindows()\n",
    "else:\n",
    "    print(\"Failed to load the image. Please check the file path.\")"
   ]
  },
  {
   "cell_type": "code",
   "execution_count": 37,
   "metadata": {},
   "outputs": [],
   "source": [
    "import cv2 as cv\n",
    "\n",
    "# Load the image\n",
    "input = cv.imread('image7.jpg')\n",
    "\n",
    "# Check if the image was loaded successfully\n",
    "if input is not None:\n",
    "    output = poseDetector(input)\n",
    "\n",
    "    # Display the output image\n",
    "    cv.imshow('Output', output)\n",
    "    cv.waitKey(0)\n",
    "    cv.destroyAllWindows()\n",
    "else:\n",
    "    print(\"Failed to load the image. Please check the file path.\")"
   ]
  },
  {
   "cell_type": "code",
   "execution_count": 38,
   "metadata": {},
   "outputs": [],
   "source": [
    "import cv2 as cv\n",
    "\n",
    "# Load the image\n",
    "input = cv.imread('image8.jpg')\n",
    "\n",
    "# Check if the image was loaded successfully\n",
    "if input is not None:\n",
    "    output = poseDetector(input)\n",
    "\n",
    "    # Display the output image\n",
    "    cv.imshow('Output', output)\n",
    "    cv.waitKey(0)\n",
    "    cv.destroyAllWindows()\n",
    "else:\n",
    "    print(\"Failed to load the image. Please check the file path.\")"
   ]
  },
  {
   "cell_type": "code",
   "execution_count": 39,
   "metadata": {},
   "outputs": [],
   "source": [
    "import cv2 as cv\n",
    "\n",
    "# Load the image\n",
    "input = cv.imread('image9.jpg')\n",
    "\n",
    "# Check if the image was loaded successfully\n",
    "if input is not None:\n",
    "    output = poseDetector(input)\n",
    "\n",
    "    # Display the output image\n",
    "    cv.imshow('Output', output)\n",
    "    cv.waitKey(0)\n",
    "    cv.destroyAllWindows()\n",
    "else:\n",
    "    print(\"Failed to load the image. Please check the file path.\")"
   ]
  },
  {
   "cell_type": "code",
   "execution_count": 40,
   "metadata": {},
   "outputs": [],
   "source": [
    "import cv2 as cv\n",
    "\n",
    "# Load the image\n",
    "input = cv.imread('image10.jpg')\n",
    "\n",
    "# Check if the image was loaded successfully\n",
    "if input is not None:\n",
    "    output = poseDetector(input)\n",
    "\n",
    "    # Display the output image\n",
    "    cv.imshow('Output', output)\n",
    "    cv.waitKey(0)\n",
    "    cv.destroyAllWindows()\n",
    "else:\n",
    "    print(\"Failed to load the image. Please check the file path.\")"
   ]
  },
  {
   "cell_type": "code",
   "execution_count": 41,
   "metadata": {},
   "outputs": [],
   "source": [
    "import cv2 as cv\n",
    "\n",
    "# Load the image\n",
    "input = cv.imread('image11.jpg')\n",
    "\n",
    "# Check if the image was loaded successfully\n",
    "if input is not None:\n",
    "    output = poseDetector(input)\n",
    "\n",
    "    # Display the output image\n",
    "    cv.imshow('Output', output)\n",
    "    cv.waitKey(0)\n",
    "    cv.destroyAllWindows()\n",
    "else:\n",
    "    print(\"Failed to load the image. Please check the file path.\")"
   ]
  },
  {
   "cell_type": "code",
   "execution_count": 42,
   "metadata": {},
   "outputs": [],
   "source": [
    "import cv2 as cv\n",
    "\n",
    "# Load the image\n",
    "input = cv.imread('image12.jpg')\n",
    "\n",
    "# Check if the image was loaded successfully\n",
    "if input is not None:\n",
    "    output = poseDetector(input)\n",
    "\n",
    "    # Display the output image\n",
    "    cv.imshow('Output', output)\n",
    "    cv.waitKey(0)\n",
    "    cv.destroyAllWindows()\n",
    "else:\n",
    "    print(\"Failed to load the image. Please check the file path.\")"
   ]
  },
  {
   "cell_type": "code",
   "execution_count": 44,
   "metadata": {},
   "outputs": [],
   "source": [
    "import cv2 as cv\n",
    "\n",
    "# Load the image\n",
    "input = cv.imread('image13.jpg')\n",
    "\n",
    "# Check if the image was loaded successfully\n",
    "if input is not None:\n",
    "    output = poseDetector(input)\n",
    "\n",
    "    # Display the output image\n",
    "    cv.imshow('Output', output)\n",
    "    cv.waitKey(0)\n",
    "    cv.destroyAllWindows()\n",
    "else:\n",
    "    print(\"Failed to load the image. Please check the file path.\")"
   ]
  },
  {
   "cell_type": "code",
   "execution_count": 45,
   "metadata": {},
   "outputs": [],
   "source": [
    "import cv2 as cv\n",
    "\n",
    "# Load the image\n",
    "input = cv.imread('image14.jpg')\n",
    "\n",
    "# Check if the image was loaded successfully\n",
    "if input is not None:\n",
    "    output = poseDetector(input)\n",
    "\n",
    "    # Display the output image\n",
    "    cv.imshow('Output', output)\n",
    "    cv.waitKey(0)\n",
    "    cv.destroyAllWindows()\n",
    "else:\n",
    "    print(\"Failed to load the image. Please check the file path.\")"
   ]
  },
  {
   "cell_type": "code",
   "execution_count": null,
   "metadata": {},
   "outputs": [],
   "source": [
    "import cv2 as cv\n",
    "\n",
    "# Load the image\n",
    "input = cv.imread('image15.jpg')\n",
    "\n",
    "# Check if the image was loaded successfully\n",
    "if input is not None:\n",
    "    output = poseDetector(input)\n",
    "\n",
    "    # Display the output image\n",
    "    cv.imshow('Output', output)\n",
    "    cv.waitKey(0)\n",
    "    cv.destroyAllWindows()\n",
    "else:\n",
    "    print(\"Failed to load the image. Please check the file path.\")"
   ]
  },
  {
   "cell_type": "code",
   "execution_count": 36,
   "metadata": {
    "colab": {
     "base_uri": "https://localhost:8080/",
     "height": 52
    },
    "id": "jPPgVzcH1xVE",
    "outputId": "72774410-a8e3-4fff-f5fc-a35d5248c165"
   },
   "outputs": [
    {
     "name": "stdout",
     "output_type": "stream",
     "text": [
      "Processing Video...\n",
      "Done processing video\n"
     ]
    }
   ],
   "source": [
    "import cv2\n",
    "cap = cv2.VideoCapture('dance.mp4')\n",
    "ret, frame = cap.read()\n",
    "frame_height, frame_width, _ = frame.shape\n",
    "out = cv2.VideoWriter('output.avi',cv2.VideoWriter_fourcc('M','J','P','G'), 10, (frame_width,frame_height))\n",
    "print(\"Processing Video...\")\n",
    "while cap.isOpened():\n",
    "  ret, frame = cap.read()\n",
    "  if not ret:\n",
    "    out.release()\n",
    "    break\n",
    "  output = poseDetector(frame)\n",
    "  out.write(output)\n",
    "out.release()\n",
    "print(\"Done processing video\")"
   ]
  },
  {
   "cell_type": "code",
   "execution_count": null,
   "metadata": {},
   "outputs": [],
   "source": []
  }
 ],
 "metadata": {
  "colab": {
   "provenance": []
  },
  "kernelspec": {
   "display_name": "Python 3 (ipykernel)",
   "language": "python",
   "name": "python3"
  },
  "language_info": {
   "codemirror_mode": {
    "name": "ipython",
    "version": 3
   },
   "file_extension": ".py",
   "mimetype": "text/x-python",
   "name": "python",
   "nbconvert_exporter": "python",
   "pygments_lexer": "ipython3",
   "version": "3.11.4"
  }
 },
 "nbformat": 4,
 "nbformat_minor": 1
}
